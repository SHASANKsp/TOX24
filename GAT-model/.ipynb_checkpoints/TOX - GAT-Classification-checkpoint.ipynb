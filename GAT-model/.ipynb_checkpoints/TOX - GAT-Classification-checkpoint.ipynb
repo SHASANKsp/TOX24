{
 "cells": [
  {
   "cell_type": "markdown",
   "id": "ea753b7e-6b42-4d6c-a461-6d2ee49a6b50",
   "metadata": {},
   "source": [
    "https://ochem.eu/static/challenge.do"
   ]
  },
  {
   "cell_type": "markdown",
   "id": "a7fde4e2-2682-4bda-b8f9-de57b894861c",
   "metadata": {},
   "source": [
    "# TOX24"
   ]
  },
  {
   "cell_type": "code",
   "execution_count": 7,
   "id": "401e85c5-67d1-43d0-8600-85ab650a6294",
   "metadata": {},
   "outputs": [],
   "source": [
    "import torch\n",
    "import torch.nn as nn\n",
    "import torch.optim as optim\n",
    "import pandas as pd\n",
    "import numpy as np\n",
    "from torch_geometric.data import Data, DataLoader\n",
    "from torch_geometric.nn import GATConv, global_mean_pool\n",
    "from rdkit import Chem\n",
    "from sklearn.metrics import mean_squared_error, r2_score\n",
    "import torch.nn.functional as F"
   ]
  },
  {
   "cell_type": "code",
   "execution_count": 18,
   "id": "de90b8e9-899b-45ea-b796-6edbee36d319",
   "metadata": {},
   "outputs": [],
   "source": [
    "import matplotlib.pyplot as plt"
   ]
  },
  {
   "cell_type": "code",
   "execution_count": null,
   "id": "4bd6da1f-afed-40e3-9dd0-604b57bc16a2",
   "metadata": {},
   "outputs": [],
   "source": []
  },
  {
   "cell_type": "code",
   "execution_count": 16,
   "id": "f9580b7e-b5e0-434c-9b0e-a6e7c8cd760a",
   "metadata": {},
   "outputs": [],
   "source": [
    "datafile = pd.read_csv(\"tox24_challenge_train.csv\")"
   ]
  },
  {
   "cell_type": "code",
   "execution_count": 19,
   "id": "79a721c7-04f1-4c03-b64c-dc678c6fea53",
   "metadata": {},
   "outputs": [
    {
     "data": {
      "text/plain": [
       "(array([  5.,  20.,  60., 292., 148., 109.,  89.,  64.,  88., 131.]),\n",
       " array([-45.  , -29.39, -13.78,   1.83,  17.44,  33.05,  48.66,  64.27,\n",
       "         79.88,  95.49, 111.1 ]),\n",
       " <BarContainer object of 10 artists>)"
      ]
     },
     "execution_count": 19,
     "metadata": {},
     "output_type": "execute_result"
    },
    {
     "data": {
      "image/png": "[encoded data removed]",
      "text/plain": [
       "<Figure size 640x480 with 1 Axes>"
      ]
     },
     "metadata": {},
     "output_type": "display_data"
    }
   ],
   "source": [
    "plt.hist(datafile.activity)"
   ]
  },
  {
   "cell_type": "code",
   "execution_count": 20,
   "id": "297b0979-7430-4a03-89da-d0e03b932730",
   "metadata": {},
   "outputs": [],
   "source": [
    "def cat(num):\n",
    "    if num <= 0:\n",
    "        return 0 #negative\n",
    "    elif num>0 and num < 30:\n",
    "        return 1 #neutral\n",
    "    else:\n",
    "        return 2 #positive"
   ]
  },
  {
   "cell_type": "code",
   "execution_count": 21,
   "id": "e28cc5de-9a48-480e-825c-3cf755cf17a1",
   "metadata": {},
   "outputs": [],
   "source": [
    "datafile[\"cat\"] = datafile[\"activity\"].apply(cat)"
   ]
  },
  {
   "cell_type": "code",
   "execution_count": 22,
   "id": "485dd631-9e85-417b-bb2d-fe71125a1e2f",
   "metadata": {},
   "outputs": [
    {
     "data": {
      "text/html": [
       "<div>\n",
       "<style scoped>\n",
       "    .dataframe tbody tr th:only-of-type {\n",
       "        vertical-align: middle;\n",
       "    }\n",
       "\n",
       "    .dataframe tbody tr th {\n",
       "        vertical-align: top;\n",
       "    }\n",
       "\n",
       "    .dataframe thead th {\n",
       "        text-align: right;\n",
       "    }\n",
       "</style>\n",
       "<table border=\"1\" class=\"dataframe\">\n",
       "  <thead>\n",
       "    <tr style=\"text-align: right;\">\n",
       "      <th></th>\n",
       "      <th>SMILES</th>\n",
       "      <th>activity</th>\n",
       "      <th>cat</th>\n",
       "    </tr>\n",
       "  </thead>\n",
       "  <tbody>\n",
       "    <tr>\n",
       "      <th>0</th>\n",
       "      <td>CC1(C)[C@@H]2C[C@H]1C(=C)CC2</td>\n",
       "      <td>12.3</td>\n",
       "      <td>1</td>\n",
       "    </tr>\n",
       "    <tr>\n",
       "      <th>1</th>\n",
       "      <td>COC(=O)C(C)OC1=CC=C(OC2=CC=C(Cl)C=C2Cl)C=C1</td>\n",
       "      <td>94.1</td>\n",
       "      <td>2</td>\n",
       "    </tr>\n",
       "    <tr>\n",
       "      <th>2</th>\n",
       "      <td>CCCCCCCCCCCCCC(=O)OCC(O)CO</td>\n",
       "      <td>38.1</td>\n",
       "      <td>2</td>\n",
       "    </tr>\n",
       "    <tr>\n",
       "      <th>3</th>\n",
       "      <td>CC(=O)O[C@@H]1C[C@@H]2CC[C@@]1(C)C2(C)C</td>\n",
       "      <td>11.8</td>\n",
       "      <td>1</td>\n",
       "    </tr>\n",
       "    <tr>\n",
       "      <th>4</th>\n",
       "      <td>CCCCCCCCCC=CCC1CC(=O)OC1=O</td>\n",
       "      <td>98.4</td>\n",
       "      <td>2</td>\n",
       "    </tr>\n",
       "    <tr>\n",
       "      <th>...</th>\n",
       "      <td>...</td>\n",
       "      <td>...</td>\n",
       "      <td>...</td>\n",
       "    </tr>\n",
       "    <tr>\n",
       "      <th>1001</th>\n",
       "      <td>COC1=C(OC)C(=CC=C1)[C@H](O)C2CCN(CCC3=CC=C(F)C...</td>\n",
       "      <td>-16.9</td>\n",
       "      <td>0</td>\n",
       "    </tr>\n",
       "    <tr>\n",
       "      <th>1002</th>\n",
       "      <td>CC(=O)CC(C1=CC=CC=C1)C2=C(O)C3=CC=CC=C3OC2=O</td>\n",
       "      <td>93.2</td>\n",
       "      <td>2</td>\n",
       "    </tr>\n",
       "    <tr>\n",
       "      <th>1003</th>\n",
       "      <td>C[C@H]1CCCC(=O)CCC/C=C/C2=C(C(O)=CC(O)=C2)C(=O)O1</td>\n",
       "      <td>28.1</td>\n",
       "      <td>1</td>\n",
       "    </tr>\n",
       "    <tr>\n",
       "      <th>1004</th>\n",
       "      <td>OC(=O)CN1C(=O)N(CC2=CC=C(Br)C=C2F)C(=O)C3=C1C=...</td>\n",
       "      <td>59.0</td>\n",
       "      <td>2</td>\n",
       "    </tr>\n",
       "    <tr>\n",
       "      <th>1005</th>\n",
       "      <td>[ZnH2+2].CN(C)C([S-])=S.CN(C)C([S-])=S</td>\n",
       "      <td>29.9</td>\n",
       "      <td>1</td>\n",
       "    </tr>\n",
       "  </tbody>\n",
       "</table>\n",
       "<p>1006 rows × 3 columns</p>\n",
       "</div>"
      ],
      "text/plain": [
       "                                                 SMILES  activity  cat\n",
       "0                          CC1(C)[C@@H]2C[C@H]1C(=C)CC2      12.3    1\n",
       "1           COC(=O)C(C)OC1=CC=C(OC2=CC=C(Cl)C=C2Cl)C=C1      94.1    2\n",
       "2                            CCCCCCCCCCCCCC(=O)OCC(O)CO      38.1    2\n",
       "3               CC(=O)O[C@@H]1C[C@@H]2CC[C@@]1(C)C2(C)C      11.8    1\n",
       "4                            CCCCCCCCCC=CCC1CC(=O)OC1=O      98.4    2\n",
       "...                                                 ...       ...  ...\n",
       "1001  COC1=C(OC)C(=CC=C1)[C@H](O)C2CCN(CCC3=CC=C(F)C...     -16.9    0\n",
       "1002       CC(=O)CC(C1=CC=CC=C1)C2=C(O)C3=CC=CC=C3OC2=O      93.2    2\n",
       "1003  C[C@H]1CCCC(=O)CCC/C=C/C2=C(C(O)=CC(O)=C2)C(=O)O1      28.1    1\n",
       "1004  OC(=O)CN1C(=O)N(CC2=CC=C(Br)C=C2F)C(=O)C3=C1C=...      59.0    2\n",
       "1005             [ZnH2+2].CN(C)C([S-])=S.CN(C)C([S-])=S      29.9    1\n",
       "\n",
       "[1006 rows x 3 columns]"
      ]
     },
     "execution_count": 22,
     "metadata": {},
     "output_type": "execute_result"
    }
   ],
   "source": [
    "datafile"
   ]
  },
  {
   "cell_type": "code",
   "execution_count": 23,
   "id": "618261f9-ac76-4ee3-b439-3b0a74b478f9",
   "metadata": {},
   "outputs": [],
   "source": [
    "smiles_list = datafile[\"SMILES\"].to_list()\n",
    "activity_values = datafile[\"cat\"].to_list()"
   ]
  },
  {
   "cell_type": "code",
   "execution_count": null,
   "id": "62e1bcaf-e64a-4b32-87b3-a232defcb9cb",
   "metadata": {},
   "outputs": [],
   "source": []
  },
  {
   "cell_type": "code",
   "execution_count": 28,
   "id": "3cd82809-015b-46d4-baaa-90a010546969",
   "metadata": {},
   "outputs": [],
   "source": [
    "class GATNet(nn.Module):\n",
    "    def __init__(self, in_channels, hidden_channels, num_classes, dropout):\n",
    "        super(GATNet, self).__init__()\n",
    "        self.conv1 = GATConv(in_channels, hidden_channels, heads=10, dropout=dropout)\n",
    "        self.conv2 = GATConv(hidden_channels * 10, hidden_channels, heads=5, dropout=dropout)\n",
    "        self.fc = nn.Linear(hidden_channels * 5, num_classes) \n",
    "\n",
    "    def forward(self, data):\n",
    "        x, edge_index, batch = data.x, data.edge_index, data.batch\n",
    "        edge_attr = data.edge_attr if hasattr(data, \"edge_attr\") else None \n",
    "\n",
    "        x = self.conv1(x, edge_index, edge_attr)\n",
    "        x = F.leaky_relu(x)\n",
    "        x = self.conv2(x, edge_index, edge_attr)\n",
    "        x = F.leaky_relu(x)\n",
    "\n",
    "        x = global_mean_pool(x, batch)\n",
    "        return self.fc(x) "
   ]
  },
  {
   "cell_type": "code",
   "execution_count": 29,
   "id": "874c665f-9769-4328-b3e3-1cf876007fe3",
   "metadata": {},
   "outputs": [],
   "source": [
    "def smiles_to_graph(smiles):\n",
    "    mol = Chem.MolFromSmiles(smiles)\n",
    "    if mol is None:\n",
    "        return None\n",
    "\n",
    "    x = torch.tensor([[atom.GetAtomicNum()] for atom in mol.GetAtoms()], dtype=torch.float)\n",
    "\n",
    "    edge_index = []\n",
    "    edge_attr = []\n",
    "    for bond in mol.GetBonds():\n",
    "        i, j = bond.GetBeginAtomIdx(), bond.GetEndAtomIdx()\n",
    "        bond_feature = [bond.GetBondTypeAsDouble()] \n",
    "\n",
    "        edge_index.append((i, j))\n",
    "        edge_index.append((j, i))\n",
    "        edge_attr.append(bond_feature)\n",
    "        edge_attr.append(bond_feature)\n",
    "\n",
    "    edge_index = torch.tensor(edge_index, dtype=torch.long).t().contiguous() if edge_index else torch.empty((2, 0), dtype=torch.long)\n",
    "    edge_attr = torch.tensor(edge_attr, dtype=torch.float) if edge_attr else torch.zeros((edge_index.shape[1], 1), dtype=torch.float)\n",
    "\n",
    "    return Data(x=x, edge_index=edge_index, edge_attr=edge_attr)"
   ]
  },
  {
   "cell_type": "code",
   "execution_count": 30,
   "id": "4bb6cc54-0fd1-4f65-9c5f-3a1059afdccd",
   "metadata": {},
   "outputs": [
    {
     "name": "stderr",
     "output_type": "stream",
     "text": [
      "C:\\Users\\shasa\\AppData\\Local\\Programs\\Python\\Python311\\Lib\\site-packages\\torch_geometric\\deprecation.py:26: UserWarning: 'data.DataLoader' is deprecated, use 'loader.DataLoader' instead\n",
      "  warnings.warn(out)\n"
     ]
    }
   ],
   "source": [
    "graph_data = []\n",
    "for s, y in zip(smiles_list, activity_values):\n",
    "    graph = smiles_to_graph(s)\n",
    "    if graph is not None:\n",
    "        graph.y = torch.tensor([y], dtype=torch.float)\n",
    "        graph_data.append(graph)\n",
    "\n",
    "dataloader = DataLoader(graph_data, batch_size=100, shuffle=True)"
   ]
  },
  {
   "cell_type": "code",
   "execution_count": null,
   "id": "2c777918-ee7c-4ac0-82fb-1b4d8c3cf680",
   "metadata": {},
   "outputs": [],
   "source": []
  },
  {
   "cell_type": "code",
   "execution_count": null,
   "id": "fd7da13b-19ac-464e-b8f5-db41270228de",
   "metadata": {},
   "outputs": [],
   "source": []
  },
  {
   "cell_type": "code",
   "execution_count": null,
   "id": "16d51b69-d340-4725-a450-fd395c35673f",
   "metadata": {},
   "outputs": [],
   "source": []
  },
  {
   "cell_type": "code",
   "execution_count": 31,
   "id": "614e0577-91fc-47aa-9a62-00de5ee6f079",
   "metadata": {
    "scrolled": true
   },
   "outputs": [
    {
     "name": "stderr",
     "output_type": "stream",
     "text": [
      "C:\\Users\\shasa\\AppData\\Local\\Programs\\Python\\Python311\\Lib\\site-packages\\torch\\optim\\lr_scheduler.py:62: UserWarning: The verbose parameter is deprecated. Please use get_last_lr() to access the learning rate.\n",
      "  warnings.warn(\n"
     ]
    },
    {
     "name": "stdout",
     "output_type": "stream",
     "text": [
      "Epoch 1/100, Loss: 5.8185, Accuracy: 0.4334\n",
      "Epoch 2/100, Loss: 0.9465, Accuracy: 0.4443\n",
      "Epoch 3/100, Loss: 0.9936, Accuracy: 0.4732\n",
      "Epoch 4/100, Loss: 0.9297, Accuracy: 0.4414\n",
      "Epoch 5/100, Loss: 0.9380, Accuracy: 0.4652\n",
      "Epoch 6/100, Loss: 0.9063, Accuracy: 0.4722\n",
      "Epoch 7/100, Loss: 0.9309, Accuracy: 0.4761\n",
      "Epoch 8/100, Loss: 0.8917, Accuracy: 0.5010\n",
      "Epoch 9/100, Loss: 0.9329, Accuracy: 0.4563\n",
      "Epoch 10/100, Loss: 0.9008, Accuracy: 0.5010\n",
      "Epoch 11/100, Loss: 0.8859, Accuracy: 0.5040\n",
      "Epoch 12/100, Loss: 0.9035, Accuracy: 0.4920\n",
      "Epoch 13/100, Loss: 0.9149, Accuracy: 0.4394\n",
      "Epoch 14/100, Loss: 0.9092, Accuracy: 0.4950\n",
      "Epoch 15/100, Loss: 0.8890, Accuracy: 0.4483\n",
      "Epoch 16/100, Loss: 0.8886, Accuracy: 0.5080\n",
      "Epoch 17/100, Loss: 0.9402, Accuracy: 0.4543\n",
      "Epoch 18/100, Loss: 0.9220, Accuracy: 0.5010\n",
      "Epoch 19/100, Loss: 0.8808, Accuracy: 0.5010\n",
      "Epoch 20/100, Loss: 0.9390, Accuracy: 0.5010\n",
      "Epoch 21/100, Loss: 0.9121, Accuracy: 0.4553\n",
      "Epoch 22/100, Loss: 0.9033, Accuracy: 0.5010\n",
      "Epoch 23/100, Loss: 0.8894, Accuracy: 0.4742\n",
      "Epoch 24/100, Loss: 0.8876, Accuracy: 0.4652\n",
      "Epoch 25/100, Loss: 0.8870, Accuracy: 0.5010\n",
      "Epoch 26/100, Loss: 0.9190, Accuracy: 0.4523\n",
      "Epoch 27/100, Loss: 0.9108, Accuracy: 0.4990\n",
      "Epoch 28/100, Loss: 0.8965, Accuracy: 0.4324\n",
      "Epoch 29/100, Loss: 0.9058, Accuracy: 0.5099\n",
      "Epoch 30/100, Loss: 0.8804, Accuracy: 0.5010\n",
      "Epoch 31/100, Loss: 0.8813, Accuracy: 0.5010\n"
     ]
    },
    {
     "ename": "KeyboardInterrupt",
     "evalue": "",
     "output_type": "error",
     "traceback": [
      "\u001b[1;31m---------------------------------------------------------------------------\u001b[0m",
      "\u001b[1;31mKeyboardInterrupt\u001b[0m                         Traceback (most recent call last)",
      "Cell \u001b[1;32mIn[31], line 20\u001b[0m\n\u001b[0;32m     17\u001b[0m output \u001b[38;5;241m=\u001b[39m model(batch)  \u001b[38;5;66;03m# Shape: (batch_size, 3)\u001b[39;00m\n\u001b[0;32m     18\u001b[0m loss \u001b[38;5;241m=\u001b[39m loss_fn(output, batch\u001b[38;5;241m.\u001b[39my\u001b[38;5;241m.\u001b[39mlong()) \n\u001b[1;32m---> 20\u001b[0m \u001b[43mloss\u001b[49m\u001b[38;5;241;43m.\u001b[39;49m\u001b[43mbackward\u001b[49m\u001b[43m(\u001b[49m\u001b[43m)\u001b[49m\n\u001b[0;32m     21\u001b[0m optimizer\u001b[38;5;241m.\u001b[39mstep()\n\u001b[0;32m     22\u001b[0m total_loss \u001b[38;5;241m+\u001b[39m\u001b[38;5;241m=\u001b[39m loss\u001b[38;5;241m.\u001b[39mitem()\n",
      "File \u001b[1;32m~\\AppData\\Local\\Programs\\Python\\Python311\\Lib\\site-packages\\torch\\_tensor.py:626\u001b[0m, in \u001b[0;36mTensor.backward\u001b[1;34m(self, gradient, retain_graph, create_graph, inputs)\u001b[0m\n\u001b[0;32m    616\u001b[0m \u001b[38;5;28;01mif\u001b[39;00m has_torch_function_unary(\u001b[38;5;28mself\u001b[39m):\n\u001b[0;32m    617\u001b[0m     \u001b[38;5;28;01mreturn\u001b[39;00m handle_torch_function(\n\u001b[0;32m    618\u001b[0m         Tensor\u001b[38;5;241m.\u001b[39mbackward,\n\u001b[0;32m    619\u001b[0m         (\u001b[38;5;28mself\u001b[39m,),\n\u001b[1;32m   (...)\u001b[0m\n\u001b[0;32m    624\u001b[0m         inputs\u001b[38;5;241m=\u001b[39minputs,\n\u001b[0;32m    625\u001b[0m     )\n\u001b[1;32m--> 626\u001b[0m \u001b[43mtorch\u001b[49m\u001b[38;5;241;43m.\u001b[39;49m\u001b[43mautograd\u001b[49m\u001b[38;5;241;43m.\u001b[39;49m\u001b[43mbackward\u001b[49m\u001b[43m(\u001b[49m\n\u001b[0;32m    627\u001b[0m \u001b[43m    \u001b[49m\u001b[38;5;28;43mself\u001b[39;49m\u001b[43m,\u001b[49m\u001b[43m \u001b[49m\u001b[43mgradient\u001b[49m\u001b[43m,\u001b[49m\u001b[43m \u001b[49m\u001b[43mretain_graph\u001b[49m\u001b[43m,\u001b[49m\u001b[43m \u001b[49m\u001b[43mcreate_graph\u001b[49m\u001b[43m,\u001b[49m\u001b[43m \u001b[49m\u001b[43minputs\u001b[49m\u001b[38;5;241;43m=\u001b[39;49m\u001b[43minputs\u001b[49m\n\u001b[0;32m    628\u001b[0m \u001b[43m\u001b[49m\u001b[43m)\u001b[49m\n",
      "File \u001b[1;32m~\\AppData\\Local\\Programs\\Python\\Python311\\Lib\\site-packages\\torch\\autograd\\__init__.py:347\u001b[0m, in \u001b[0;36mbackward\u001b[1;34m(tensors, grad_tensors, retain_graph, create_graph, grad_variables, inputs)\u001b[0m\n\u001b[0;32m    342\u001b[0m     retain_graph \u001b[38;5;241m=\u001b[39m create_graph\n\u001b[0;32m    344\u001b[0m \u001b[38;5;66;03m# The reason we repeat the same comment below is that\u001b[39;00m\n\u001b[0;32m    345\u001b[0m \u001b[38;5;66;03m# some Python versions print out the first line of a multi-line function\u001b[39;00m\n\u001b[0;32m    346\u001b[0m \u001b[38;5;66;03m# calls in the traceback and some print out the last line\u001b[39;00m\n\u001b[1;32m--> 347\u001b[0m \u001b[43m_engine_run_backward\u001b[49m\u001b[43m(\u001b[49m\n\u001b[0;32m    348\u001b[0m \u001b[43m    \u001b[49m\u001b[43mtensors\u001b[49m\u001b[43m,\u001b[49m\n\u001b[0;32m    349\u001b[0m \u001b[43m    \u001b[49m\u001b[43mgrad_tensors_\u001b[49m\u001b[43m,\u001b[49m\n\u001b[0;32m    350\u001b[0m \u001b[43m    \u001b[49m\u001b[43mretain_graph\u001b[49m\u001b[43m,\u001b[49m\n\u001b[0;32m    351\u001b[0m \u001b[43m    \u001b[49m\u001b[43mcreate_graph\u001b[49m\u001b[43m,\u001b[49m\n\u001b[0;32m    352\u001b[0m \u001b[43m    \u001b[49m\u001b[43minputs\u001b[49m\u001b[43m,\u001b[49m\n\u001b[0;32m    353\u001b[0m \u001b[43m    \u001b[49m\u001b[43mallow_unreachable\u001b[49m\u001b[38;5;241;43m=\u001b[39;49m\u001b[38;5;28;43;01mTrue\u001b[39;49;00m\u001b[43m,\u001b[49m\n\u001b[0;32m    354\u001b[0m \u001b[43m    \u001b[49m\u001b[43maccumulate_grad\u001b[49m\u001b[38;5;241;43m=\u001b[39;49m\u001b[38;5;28;43;01mTrue\u001b[39;49;00m\u001b[43m,\u001b[49m\n\u001b[0;32m    355\u001b[0m \u001b[43m\u001b[49m\u001b[43m)\u001b[49m\n",
      "File \u001b[1;32m~\\AppData\\Local\\Programs\\Python\\Python311\\Lib\\site-packages\\torch\\autograd\\graph.py:823\u001b[0m, in \u001b[0;36m_engine_run_backward\u001b[1;34m(t_outputs, *args, **kwargs)\u001b[0m\n\u001b[0;32m    821\u001b[0m     unregister_hooks \u001b[38;5;241m=\u001b[39m _register_logging_hooks_on_whole_graph(t_outputs)\n\u001b[0;32m    822\u001b[0m \u001b[38;5;28;01mtry\u001b[39;00m:\n\u001b[1;32m--> 823\u001b[0m     \u001b[38;5;28;01mreturn\u001b[39;00m \u001b[43mVariable\u001b[49m\u001b[38;5;241;43m.\u001b[39;49m\u001b[43m_execution_engine\u001b[49m\u001b[38;5;241;43m.\u001b[39;49m\u001b[43mrun_backward\u001b[49m\u001b[43m(\u001b[49m\u001b[43m  \u001b[49m\u001b[38;5;66;43;03m# Calls into the C++ engine to run the backward pass\u001b[39;49;00m\n\u001b[0;32m    824\u001b[0m \u001b[43m        \u001b[49m\u001b[43mt_outputs\u001b[49m\u001b[43m,\u001b[49m\u001b[43m \u001b[49m\u001b[38;5;241;43m*\u001b[39;49m\u001b[43margs\u001b[49m\u001b[43m,\u001b[49m\u001b[43m \u001b[49m\u001b[38;5;241;43m*\u001b[39;49m\u001b[38;5;241;43m*\u001b[39;49m\u001b[43mkwargs\u001b[49m\n\u001b[0;32m    825\u001b[0m \u001b[43m    \u001b[49m\u001b[43m)\u001b[49m  \u001b[38;5;66;03m# Calls into the C++ engine to run the backward pass\u001b[39;00m\n\u001b[0;32m    826\u001b[0m \u001b[38;5;28;01mfinally\u001b[39;00m:\n\u001b[0;32m    827\u001b[0m     \u001b[38;5;28;01mif\u001b[39;00m attach_logging_hooks:\n",
      "\u001b[1;31mKeyboardInterrupt\u001b[0m: "
     ]
    }
   ],
   "source": [
    "device = torch.device(\"cuda\" if torch.cuda.is_available() else \"cpu\")\n",
    "model = GATNet(in_channels=graph_data[0].x.shape[1], hidden_channels=512, num_classes=3, dropout=0.1).to(device)\n",
    "optimizer = torch.optim.Adam(model.parameters(), lr=0.01, weight_decay=1e-5)\n",
    "scheduler = torch.optim.lr_scheduler.ReduceLROnPlateau(optimizer, mode=\"min\", factor=0.5, patience=7, verbose=True)\n",
    "loss_fn = torch.nn.CrossEntropyLoss()\n",
    "\n",
    "epochs = 100\n",
    "for epoch in range(epochs):\n",
    "    total_loss = 0\n",
    "    model.train()\n",
    "    correct, total = 0, 0\n",
    "\n",
    "    for batch in dataloader:\n",
    "        batch = batch.to(device)\n",
    "        optimizer.zero_grad()\n",
    "        \n",
    "        output = model(batch)  \n",
    "        loss = loss_fn(output, batch.y.long()) \n",
    "\n",
    "        loss.backward()\n",
    "        optimizer.step()\n",
    "        total_loss += loss.item()\n",
    "\n",
    "        preds = output.argmax(dim=1) \n",
    "        correct += (preds == batch.y.long()).sum().item()  \n",
    "        total += batch.y.size(0)\n",
    "\n",
    "    avg_loss = total_loss / len(dataloader)\n",
    "    accuracy = correct / total\n",
    "    scheduler.step(avg_loss)\n",
    "\n",
    "    print(f\"Epoch {epoch+1}/{epochs}, Loss: {avg_loss:.4f}, Accuracy: {accuracy:.4f}\")"
   ]
  },
  {
   "cell_type": "code",
   "execution_count": null,
   "id": "88d0c382-9eb4-4965-98b2-0eece015c4e3",
   "metadata": {},
   "outputs": [],
   "source": []
  }
 ],
 "metadata": {
  "kernelspec": {
   "display_name": "Python 3 (ipykernel)",
   "language": "python",
   "name": "python3"
  },
  "language_info": {
   "codemirror_mode": {
    "name": "ipython",
    "version": 3
   },
   "file_extension": ".py",
   "mimetype": "text/x-python",
   "name": "python",
   "nbconvert_exporter": "python",
   "pygments_lexer": "ipython3",
   "version": "3.11.8"
  }
 },
 "nbformat": 4,
 "nbformat_minor": 5
}
