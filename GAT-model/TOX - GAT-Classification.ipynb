{
 "cells": [
  {
   "cell_type": "markdown",
   "id": "ea753b7e-6b42-4d6c-a461-6d2ee49a6b50",
   "metadata": {},
   "source": [
    "https://ochem.eu/static/challenge.do"
   ]
  },
  {
   "cell_type": "markdown",
   "id": "a7fde4e2-2682-4bda-b8f9-de57b894861c",
   "metadata": {},
   "source": [
    "# TOX24"
   ]
  },
  {
   "cell_type": "code",
   "execution_count": 1,
   "id": "401e85c5-67d1-43d0-8600-85ab650a6294",
   "metadata": {},
   "outputs": [],
   "source": [
    "import torch\n",
    "import torch.nn as nn\n",
    "import torch.optim as optim\n",
    "import pandas as pd\n",
    "import numpy as np\n",
    "from torch_geometric.data import Data, DataLoader\n",
    "from torch_geometric.nn import GATConv, global_mean_pool\n",
    "from rdkit import Chem\n",
    "from sklearn.metrics import mean_squared_error, r2_score\n",
    "import torch.nn.functional as F"
   ]
  },
  {
   "cell_type": "code",
   "execution_count": 2,
   "id": "de90b8e9-899b-45ea-b796-6edbee36d319",
   "metadata": {},
   "outputs": [],
   "source": [
    "import matplotlib.pyplot as plt"
   ]
  },
  {
   "cell_type": "code",
   "execution_count": null,
   "id": "4bd6da1f-afed-40e3-9dd0-604b57bc16a2",
   "metadata": {},
   "outputs": [],
   "source": []
  },
  {
   "cell_type": "code",
   "execution_count": 3,
   "id": "f9580b7e-b5e0-434c-9b0e-a6e7c8cd760a",
   "metadata": {},
   "outputs": [],
   "source": [
    "datafile = pd.read_csv(\"tox24_challenge_train.csv\")"
   ]
  },
  {
   "cell_type": "code",
   "execution_count": 4,
   "id": "79a721c7-04f1-4c03-b64c-dc678c6fea53",
   "metadata": {},
   "outputs": [
    {
     "data": {
      "text/plain": [
       "(array([  5.,  20.,  60., 292., 148., 109.,  89.,  64.,  88., 131.]),\n",
       " array([-45.  , -29.39, -13.78,   1.83,  17.44,  33.05,  48.66,  64.27,\n",
       "         79.88,  95.49, 111.1 ]),\n",
       " <BarContainer object of 10 artists>)"
      ]
     },
     "execution_count": 4,
     "metadata": {},
     "output_type": "execute_result"
    },
    {
     "data": {
      "image/png": "[encoded data removed]",
      "text/plain": [
       "<Figure size 640x480 with 1 Axes>"
      ]
     },
     "metadata": {},
     "output_type": "display_data"
    }
   ],
   "source": [
    "plt.hist(datafile.activity)"
   ]
  },
  {
   "cell_type": "code",
   "execution_count": 5,
   "id": "297b0979-7430-4a03-89da-d0e03b932730",
   "metadata": {},
   "outputs": [],
   "source": [
    "def cat(num):\n",
    "    if num <= 0:\n",
    "        return 0 #negative\n",
    "    elif num>0 and num < 30:\n",
    "        return 1 #neutral\n",
    "    else:\n",
    "        return 2 #positive"
   ]
  },
  {
   "cell_type": "code",
   "execution_count": 6,
   "id": "e28cc5de-9a48-480e-825c-3cf755cf17a1",
   "metadata": {},
   "outputs": [],
   "source": [
    "datafile[\"cat\"] = datafile[\"activity\"].apply(cat)"
   ]
  },
  {
   "cell_type": "code",
   "execution_count": 7,
   "id": "485dd631-9e85-417b-bb2d-fe71125a1e2f",
   "metadata": {},
   "outputs": [
    {
     "data": {
      "text/html": [
       "<div>\n",
       "<style scoped>\n",
       "    .dataframe tbody tr th:only-of-type {\n",
       "        vertical-align: middle;\n",
       "    }\n",
       "\n",
       "    .dataframe tbody tr th {\n",
       "        vertical-align: top;\n",
       "    }\n",
       "\n",
       "    .dataframe thead th {\n",
       "        text-align: right;\n",
       "    }\n",
       "</style>\n",
       "<table border=\"1\" class=\"dataframe\">\n",
       "  <thead>\n",
       "    <tr style=\"text-align: right;\">\n",
       "      <th></th>\n",
       "      <th>SMILES</th>\n",
       "      <th>activity</th>\n",
       "      <th>cat</th>\n",
       "    </tr>\n",
       "  </thead>\n",
       "  <tbody>\n",
       "    <tr>\n",
       "      <th>0</th>\n",
       "      <td>CC1(C)[C@@H]2C[C@H]1C(=C)CC2</td>\n",
       "      <td>12.3</td>\n",
       "      <td>1</td>\n",
       "    </tr>\n",
       "    <tr>\n",
       "      <th>1</th>\n",
       "      <td>COC(=O)C(C)OC1=CC=C(OC2=CC=C(Cl)C=C2Cl)C=C1</td>\n",
       "      <td>94.1</td>\n",
       "      <td>2</td>\n",
       "    </tr>\n",
       "    <tr>\n",
       "      <th>2</th>\n",
       "      <td>CCCCCCCCCCCCCC(=O)OCC(O)CO</td>\n",
       "      <td>38.1</td>\n",
       "      <td>2</td>\n",
       "    </tr>\n",
       "    <tr>\n",
       "      <th>3</th>\n",
       "      <td>CC(=O)O[C@@H]1C[C@@H]2CC[C@@]1(C)C2(C)C</td>\n",
       "      <td>11.8</td>\n",
       "      <td>1</td>\n",
       "    </tr>\n",
       "    <tr>\n",
       "      <th>4</th>\n",
       "      <td>CCCCCCCCCC=CCC1CC(=O)OC1=O</td>\n",
       "      <td>98.4</td>\n",
       "      <td>2</td>\n",
       "    </tr>\n",
       "    <tr>\n",
       "      <th>...</th>\n",
       "      <td>...</td>\n",
       "      <td>...</td>\n",
       "      <td>...</td>\n",
       "    </tr>\n",
       "    <tr>\n",
       "      <th>1001</th>\n",
       "      <td>COC1=C(OC)C(=CC=C1)[C@H](O)C2CCN(CCC3=CC=C(F)C...</td>\n",
       "      <td>-16.9</td>\n",
       "      <td>0</td>\n",
       "    </tr>\n",
       "    <tr>\n",
       "      <th>1002</th>\n",
       "      <td>CC(=O)CC(C1=CC=CC=C1)C2=C(O)C3=CC=CC=C3OC2=O</td>\n",
       "      <td>93.2</td>\n",
       "      <td>2</td>\n",
       "    </tr>\n",
       "    <tr>\n",
       "      <th>1003</th>\n",
       "      <td>C[C@H]1CCCC(=O)CCC/C=C/C2=C(C(O)=CC(O)=C2)C(=O)O1</td>\n",
       "      <td>28.1</td>\n",
       "      <td>1</td>\n",
       "    </tr>\n",
       "    <tr>\n",
       "      <th>1004</th>\n",
       "      <td>OC(=O)CN1C(=O)N(CC2=CC=C(Br)C=C2F)C(=O)C3=C1C=...</td>\n",
       "      <td>59.0</td>\n",
       "      <td>2</td>\n",
       "    </tr>\n",
       "    <tr>\n",
       "      <th>1005</th>\n",
       "      <td>[ZnH2+2].CN(C)C([S-])=S.CN(C)C([S-])=S</td>\n",
       "      <td>29.9</td>\n",
       "      <td>1</td>\n",
       "    </tr>\n",
       "  </tbody>\n",
       "</table>\n",
       "<p>1006 rows × 3 columns</p>\n",
       "</div>"
      ],
      "text/plain": [
       "                                                 SMILES  activity  cat\n",
       "0                          CC1(C)[C@@H]2C[C@H]1C(=C)CC2      12.3    1\n",
       "1           COC(=O)C(C)OC1=CC=C(OC2=CC=C(Cl)C=C2Cl)C=C1      94.1    2\n",
       "2                            CCCCCCCCCCCCCC(=O)OCC(O)CO      38.1    2\n",
       "3               CC(=O)O[C@@H]1C[C@@H]2CC[C@@]1(C)C2(C)C      11.8    1\n",
       "4                            CCCCCCCCCC=CCC1CC(=O)OC1=O      98.4    2\n",
       "...                                                 ...       ...  ...\n",
       "1001  COC1=C(OC)C(=CC=C1)[C@H](O)C2CCN(CCC3=CC=C(F)C...     -16.9    0\n",
       "1002       CC(=O)CC(C1=CC=CC=C1)C2=C(O)C3=CC=CC=C3OC2=O      93.2    2\n",
       "1003  C[C@H]1CCCC(=O)CCC/C=C/C2=C(C(O)=CC(O)=C2)C(=O)O1      28.1    1\n",
       "1004  OC(=O)CN1C(=O)N(CC2=CC=C(Br)C=C2F)C(=O)C3=C1C=...      59.0    2\n",
       "1005             [ZnH2+2].CN(C)C([S-])=S.CN(C)C([S-])=S      29.9    1\n",
       "\n",
       "[1006 rows x 3 columns]"
      ]
     },
     "execution_count": 7,
     "metadata": {},
     "output_type": "execute_result"
    }
   ],
   "source": [
    "datafile"
   ]
  },
  {
   "cell_type": "code",
   "execution_count": 8,
   "id": "618261f9-ac76-4ee3-b439-3b0a74b478f9",
   "metadata": {},
   "outputs": [],
   "source": [
    "smiles_list = datafile[\"SMILES\"].to_list()\n",
    "activity_values = datafile[\"cat\"].to_list()"
   ]
  },
  {
   "cell_type": "code",
   "execution_count": null,
   "id": "62e1bcaf-e64a-4b32-87b3-a232defcb9cb",
   "metadata": {},
   "outputs": [],
   "source": []
  },
  {
   "cell_type": "code",
   "execution_count": 48,
   "id": "3cd82809-015b-46d4-baaa-90a010546969",
   "metadata": {},
   "outputs": [],
   "source": [
    "import torch\n",
    "import torch.nn as nn\n",
    "import torch.nn.functional as F\n",
    "from torch_geometric.nn import GATConv, global_mean_pool\n",
    "\n",
    "class GATNet(nn.Module):\n",
    "    def __init__(self, in_channels, hidden_channels, num_classes, global_feature_dim, dropout):\n",
    "        super(GATNet, self).__init__()\n",
    "\n",
    "        self.conv1 = GATConv(in_channels, hidden_channels, heads=10, dropout=dropout)\n",
    "\n",
    "        self.conv2 = GATConv(hidden_channels * 10, hidden_channels, heads=5, dropout=dropout)\n",
    "        \n",
    "\n",
    "        self.conv3 = GATConv(hidden_channels * 5, hidden_channels, heads=2, dropout=dropout)\n",
    "        \n",
    "        graph_feature_dim = hidden_channels * 2\n",
    "\n",
    "        self.fc = nn.Linear(graph_feature_dim + global_feature_dim, num_classes)\n",
    "\n",
    "    def forward(self, data):\n",
    "        x, edge_index, batch = data.x, data.edge_index, data.batch\n",
    "        edge_attr = data.edge_attr if hasattr(data, \"edge_attr\") else None  \n",
    "        \n",
    "        global_features = data.global_features  \n",
    "        global_features = global_features.to(x.device)  \n",
    "\n",
    "\n",
    "        x = self.conv1(x, edge_index, edge_attr)\n",
    "        x = F.relu(x)\n",
    "        \n",
    "        x = self.conv2(x, edge_index, edge_attr)\n",
    "        x = F.relu(x)\n",
    "        \n",
    "        x = self.conv3(x, edge_index, edge_attr)\n",
    "        x = F.relu(x)\n",
    "\n",
    "        x = global_mean_pool(x, batch)\n",
    "        x = torch.cat([x, global_features], dim=1)\n",
    "\n",
    "        return self.fc(x)"
   ]
  },
  {
   "cell_type": "code",
   "execution_count": null,
   "id": "6a091758-af2e-4abb-aece-11ff579e6960",
   "metadata": {},
   "outputs": [],
   "source": []
  },
  {
   "cell_type": "code",
   "execution_count": 23,
   "id": "874c665f-9769-4328-b3e3-1cf876007fe3",
   "metadata": {},
   "outputs": [],
   "source": [
    "from rdkit.Chem import Descriptors, rdMolDescriptors\n",
    "\n",
    "def compute_molecular_descriptors(mol):\n",
    "    return torch.tensor([\n",
    "        Descriptors.MolWt(mol),\n",
    "        Descriptors.HeavyAtomMolWt(mol),\n",
    "        Descriptors.ExactMolWt(mol),\n",
    "        Descriptors.FractionCSP3(mol),\n",
    "        Descriptors.MolLogP(mol),\n",
    "        Descriptors.BertzCT(mol),\n",
    "        rdMolDescriptors.CalcLabuteASA(mol),\n",
    "        rdMolDescriptors.CalcNumAromaticRings(mol),\n",
    "        rdMolDescriptors.CalcNumAromaticCarbocycles(mol)\n",
    "    ], dtype=torch.float)\n",
    "\n",
    "def smiles_to_graph(smiles):\n",
    "    mol = Chem.MolFromSmiles(smiles)\n",
    "    if mol is None:\n",
    "        return None\n",
    "\n",
    "    x = []\n",
    "    for atom in mol.GetAtoms():\n",
    "        x.append([\n",
    "            atom.GetAtomicNum(),  \n",
    "            atom.GetDegree(),  \n",
    "            atom.GetHybridization().real, \n",
    "            int(atom.GetIsAromatic()),  \n",
    "            atom.GetFormalCharge(),  \n",
    "            atom.GetChiralTag().real  \n",
    "        ])\n",
    "    \n",
    "    x = torch.tensor(x, dtype=torch.float)\n",
    "\n",
    "    edge_index = []\n",
    "    edge_attr = []\n",
    "    for bond in mol.GetBonds():\n",
    "        i, j = bond.GetBeginAtomIdx(), bond.GetEndAtomIdx()\n",
    "        \n",
    "        bond_feature = [\n",
    "            bond.GetBondTypeAsDouble(),  \n",
    "            int(bond.GetIsConjugated()), \n",
    "            int(bond.IsInRing())  \n",
    "        ]\n",
    "\n",
    "        edge_index.append((i, j))\n",
    "        edge_index.append((j, i))\n",
    "        edge_attr.append(bond_feature)\n",
    "        edge_attr.append(bond_feature)\n",
    "\n",
    "    if edge_index:\n",
    "        edge_index = torch.tensor(edge_index, dtype=torch.long).t().contiguous()\n",
    "        edge_attr = torch.tensor(edge_attr, dtype=torch.float)\n",
    "    else:\n",
    "        edge_index = torch.empty((2, 0), dtype=torch.long)\n",
    "        edge_attr = torch.empty((0, 3), dtype=torch.float)  \n",
    "\n",
    "    global_features = compute_molecular_descriptors(mol).unsqueeze(0)  # (1, num_features)\n",
    "\n",
    "    return Data(x=x, edge_index=edge_index, edge_attr=edge_attr, global_features=global_features)"
   ]
  },
  {
   "cell_type": "code",
   "execution_count": 24,
   "id": "4bb6cc54-0fd1-4f65-9c5f-3a1059afdccd",
   "metadata": {},
   "outputs": [],
   "source": [
    "graph_data = []\n",
    "for s, y in zip(smiles_list, activity_values):\n",
    "    graph = smiles_to_graph(s)\n",
    "    if graph is not None:\n",
    "        graph.y = torch.tensor([y], dtype=torch.float)\n",
    "        graph_data.append(graph)\n",
    "\n",
    "dataloader = DataLoader(graph_data, batch_size=100, shuffle=True)"
   ]
  },
  {
   "cell_type": "code",
   "execution_count": null,
   "id": "2c777918-ee7c-4ac0-82fb-1b4d8c3cf680",
   "metadata": {},
   "outputs": [],
   "source": []
  },
  {
   "cell_type": "code",
   "execution_count": null,
   "id": "fd7da13b-19ac-464e-b8f5-db41270228de",
   "metadata": {},
   "outputs": [],
   "source": []
  },
  {
   "cell_type": "code",
   "execution_count": null,
   "id": "16d51b69-d340-4725-a450-fd395c35673f",
   "metadata": {},
   "outputs": [],
   "source": [
    "from sklearn.metrics import accuracy_score, r2_score, mean_squared_error"
   ]
  },
  {
   "cell_type": "code",
   "execution_count": 55,
   "id": "614e0577-91fc-47aa-9a62-00de5ee6f079",
   "metadata": {
    "scrolled": true
   },
   "outputs": [
    {
     "name": "stdout",
     "output_type": "stream",
     "text": [
      "Epoch 1/20, Loss: 6.7931, Accuracy: 0.3410\n",
      "Epoch 2/20, Loss: 4.2141, Accuracy: 0.5020\n",
      "Epoch 3/20, Loss: 3.4653, Accuracy: 0.6252\n",
      "Epoch 4/20, Loss: 3.2523, Accuracy: 0.5875\n",
      "Epoch 5/20, Loss: 3.2060, Accuracy: 0.5785\n",
      "Epoch 6/20, Loss: 2.7982, Accuracy: 0.5875\n",
      "Epoch 7/20, Loss: 2.7522, Accuracy: 0.6004\n",
      "Epoch 8/20, Loss: 2.5808, Accuracy: 0.5686\n",
      "Epoch 9/20, Loss: 2.4163, Accuracy: 0.5825\n",
      "Epoch 10/20, Loss: 2.2959, Accuracy: 0.5845\n",
      "Epoch 11/20, Loss: 1.9482, Accuracy: 0.5795\n",
      "Epoch 12/20, Loss: 1.8273, Accuracy: 0.5795\n",
      "Epoch 13/20, Loss: 1.7259, Accuracy: 0.5726\n",
      "Epoch 14/20, Loss: 1.4764, Accuracy: 0.5716\n",
      "Epoch 15/20, Loss: 1.3457, Accuracy: 0.5865\n",
      "Epoch 16/20, Loss: 1.2858, Accuracy: 0.5606\n",
      "Epoch 17/20, Loss: 1.3049, Accuracy: 0.5676\n",
      "Epoch 18/20, Loss: 1.1784, Accuracy: 0.5895\n",
      "Epoch 19/20, Loss: 1.1979, Accuracy: 0.5905\n",
      "Epoch 20/20, Loss: 1.2695, Accuracy: 0.5726\n",
      "\n",
      "Best Model Performance: Loss: 3.4653, Accuracy: 0.6252\n"
     ]
    }
   ],
   "source": [
    "device = torch.device(\"cuda\" if torch.cuda.is_available() else \"cpu\")\n",
    "\n",
    "\n",
    "global_feature_dim = graph_data[0].global_features.shape[1]\n",
    "model = GATNet(in_channels=graph_data[0].x.shape[1], hidden_channels=512, num_classes=3, \n",
    "               global_feature_dim=global_feature_dim, dropout=0.1).to(device)\n",
    "\n",
    "optimizer = optim.Adam(model.parameters(), lr=0.0001, weight_decay=1e-5)\n",
    "scheduler = optim.lr_scheduler.ReduceLROnPlateau(optimizer, mode=\"min\", factor=0.5, patience=7, verbose=True)\n",
    "loss_fn = nn.CrossEntropyLoss()\n",
    "\n",
    "epochs = 20\n",
    "best_accuracy = 0.0  \n",
    "best_loss = float(\"inf\") \n",
    "best_model_state = None  \n",
    "\n",
    "for epoch in range(epochs):\n",
    "    total_loss = 0\n",
    "    model.train()\n",
    "    correct, total = 0, 0\n",
    "\n",
    "    for batch in dataloader:\n",
    "        batch = batch.to(device)\n",
    "        optimizer.zero_grad()\n",
    "\n",
    "        output = model(batch)\n",
    "        loss = loss_fn(output, batch.y.long())\n",
    "\n",
    "        loss.backward()\n",
    "        optimizer.step()\n",
    "        total_loss += loss.item()\n",
    "\n",
    "        preds = output.argmax(dim=1)\n",
    "        correct += (preds == batch.y.long()).sum().item()\n",
    "        total += batch.y.size(0)\n",
    "\n",
    "    avg_loss = total_loss / len(dataloader)\n",
    "    accuracy = correct / total\n",
    "    scheduler.step(avg_loss)\n",
    "\n",
    "    if accuracy > best_accuracy:  \n",
    "        best_accuracy = accuracy\n",
    "        best_loss = avg_loss\n",
    "        best_model_state = model.state_dict()\n",
    "\n",
    "    print(f\"Epoch {epoch+1}/{epochs}, Loss: {avg_loss:.4f}, Accuracy: {accuracy:.4f}\")\n",
    "\n",
    "\n",
    "model.load_state_dict(best_model_state)\n",
    "print(f\"\\nBest Model Performance: Loss: {best_loss:.4f}, Accuracy: {best_accuracy:.4f}\")"
   ]
  },
  {
   "cell_type": "code",
   "execution_count": null,
   "id": "d942f5dc-2add-47fc-a4e7-cacc66543bec",
   "metadata": {},
   "outputs": [],
   "source": []
  },
  {
   "cell_type": "code",
   "execution_count": null,
   "id": "6449b126-96bb-4b3f-a0a5-ab92cc6d62b8",
   "metadata": {},
   "outputs": [],
   "source": []
  },
  {
   "cell_type": "code",
   "execution_count": 51,
   "id": "d4e3c0c7-527e-4347-9133-abfaa40c63bd",
   "metadata": {},
   "outputs": [
    {
     "name": "stdout",
     "output_type": "stream",
     "text": [
      "GATNet(\n",
      "  (conv1): GATConv(6, 512, heads=10)\n",
      "  (conv2): GATConv(5120, 512, heads=5)\n",
      "  (conv3): GATConv(2560, 512, heads=2)\n",
      "  (fc): Linear(in_features=1033, out_features=3, bias=True)\n",
      ")\n"
     ]
    }
   ],
   "source": [
    "print(model)"
   ]
  },
  {
   "cell_type": "code",
   "execution_count": 52,
   "id": "0738dc68-3173-49bc-8f87-a02f9905ec6f",
   "metadata": {},
   "outputs": [
    {
     "name": "stdout",
     "output_type": "stream",
     "text": [
      "Epoch 20/20 | Loss: 0.8456 | Accuracy: 0.6481\n"
     ]
    }
   ],
   "source": [
    "print(f\"Epoch {epoch+1}/{epochs} | Loss: {avg_loss:.4f} | Accuracy: {accuracy:.4f}\")"
   ]
  },
  {
   "cell_type": "code",
   "execution_count": null,
   "id": "553d10df-6a58-450b-89be-783a35625a09",
   "metadata": {},
   "outputs": [],
   "source": []
  },
  {
   "cell_type": "code",
   "execution_count": null,
   "id": "9540040c-4b79-42ec-9706-5a84b7cb78b4",
   "metadata": {},
   "outputs": [],
   "source": []
  },
  {
   "cell_type": "code",
   "execution_count": null,
   "id": "9878471c-c92e-46e2-ad61-b86f19aaff49",
   "metadata": {},
   "outputs": [],
   "source": []
  },
  {
   "cell_type": "code",
   "execution_count": null,
   "id": "104032a7-8be7-48e2-83e7-afaa913b7035",
   "metadata": {},
   "outputs": [],
   "source": []
  },
  {
   "cell_type": "code",
   "execution_count": null,
   "id": "256a6e31-fd4f-4f0f-83f1-0dffa98cc539",
   "metadata": {},
   "outputs": [],
   "source": []
  },
  {
   "cell_type": "code",
   "execution_count": null,
   "id": "e5a2183a-6850-48cd-b6b6-d2d30c060461",
   "metadata": {},
   "outputs": [],
   "source": []
  },
  {
   "cell_type": "code",
   "execution_count": null,
   "id": "cca3306f-e0ec-4d63-bcab-021fb2cee5e9",
   "metadata": {},
   "outputs": [],
   "source": [
    "#old"
   ]
  },
  {
   "cell_type": "code",
   "execution_count": 39,
   "id": "fec55d14-e989-4085-b1b2-2c8813eb5495",
   "metadata": {},
   "outputs": [
    {
     "name": "stdout",
     "output_type": "stream",
     "text": [
      "GATNet(\n",
      "  (conv1): GATConv(6, 512, heads=10)\n",
      "  (conv2): GATConv(5120, 512, heads=5)\n",
      "  (fc): Linear(in_features=2569, out_features=3, bias=True)\n",
      ")\n"
     ]
    }
   ],
   "source": [
    "print(model)"
   ]
  },
  {
   "cell_type": "code",
   "execution_count": null,
   "id": "76f690c3-5961-4162-a3b0-71e88313b10c",
   "metadata": {},
   "outputs": [],
   "source": []
  },
  {
   "cell_type": "code",
   "execution_count": 40,
   "id": "495c749d-4572-4b59-9633-b25d9c553a0b",
   "metadata": {},
   "outputs": [
    {
     "name": "stdout",
     "output_type": "stream",
     "text": [
      "Epoch 10/10 | Loss: 0.8067 | Accuracy: 0.6600\n"
     ]
    }
   ],
   "source": [
    "print(f\"Epoch {epoch+1}/{epochs} | Loss: {avg_loss:.4f} | Accuracy: {accuracy:.4f}\")"
   ]
  },
  {
   "cell_type": "code",
   "execution_count": null,
   "id": "099c3f43-6623-4699-9e3e-3f8b3ead88d0",
   "metadata": {},
   "outputs": [],
   "source": []
  },
  {
   "cell_type": "code",
   "execution_count": null,
   "id": "01c2aa0c-a833-4527-81ae-58530aae64fd",
   "metadata": {},
   "outputs": [],
   "source": [
    "class GATNet(nn.Module):\n",
    "    def __init__(self, in_channels, hidden_channels, num_classes, global_feature_dim, dropout=0.5):\n",
    "        super(GATNet, self).__init__()\n",
    "\n",
    "        self.conv1 = GATConv(in_channels, hidden_channels, heads=10, dropout=dropout)\n",
    "        self.conv2 = GATConv(hidden_channels * 10, hidden_channels, heads=5, dropout=dropout)\n",
    "\n",
    "        graph_feature_dim = hidden_channels * 5\n",
    "        self.fc = nn.Linear(graph_feature_dim + global_feature_dim, num_classes)\n",
    "\n",
    "    def forward(self, data):\n",
    "        x, edge_index, batch = data.x, data.edge_index, data.batch\n",
    "        edge_attr = data.edge_attr if hasattr(data, \"edge_attr\") else None  \n",
    "        \n",
    "        global_features = data.global_features  \n",
    "        global_features = global_features.to(x.device)  \n",
    "\n",
    "\n",
    "        x = self.conv1(x, edge_index, edge_attr)\n",
    "        x = F.relu(x)\n",
    "        x = self.conv2(x, edge_index, edge_attr)\n",
    "        x = F.relu(x)\n",
    "\n",
    "        x = global_mean_pool(x, batch)\n",
    "        x = torch.cat([x, global_features], dim=1)\n",
    "\n",
    "        return self.fc(x)"
   ]
  }
 ],
 "metadata": {
  "kernelspec": {
   "display_name": "Python 3 (ipykernel)",
   "language": "python",
   "name": "python3"
  },
  "language_info": {
   "codemirror_mode": {
    "name": "ipython",
    "version": 3
   },
   "file_extension": ".py",
   "mimetype": "text/x-python",
   "name": "python",
   "nbconvert_exporter": "python",
   "pygments_lexer": "ipython3",
   "version": "3.11.8"
  }
 },
 "nbformat": 4,
 "nbformat_minor": 5
}
