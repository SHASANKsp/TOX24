{
 "cells": [
  {
   "cell_type": "markdown",
   "id": "ea753b7e-6b42-4d6c-a461-6d2ee49a6b50",
   "metadata": {},
   "source": [
    "https://ochem.eu/static/challenge.do"
   ]
  },
  {
   "cell_type": "markdown",
   "id": "a7fde4e2-2682-4bda-b8f9-de57b894861c",
   "metadata": {},
   "source": [
    "# TOX24"
   ]
  },
  {
   "cell_type": "code",
   "execution_count": 8,
   "id": "f678e8fc-a4ef-45bc-939d-b6248c2600bb",
   "metadata": {},
   "outputs": [],
   "source": [
    "import torch\n",
    "import torch.nn as nn\n",
    "from torch_geometric.data import Data\n",
    "from torch_geometric.loader import DataLoader\n",
    "from torch_geometric.nn import GCNConv, global_mean_pool\n",
    "from rdkit import Chem\n",
    "from rdkit.Chem import AllChem\n",
    "from rdkit.Chem.rdmolops import GetAdjacencyMatrix\n",
    "import numpy as np\n",
    "import pandas as pd\n",
    "import seaborn as sns\n",
    "import matplotlib.pyplot as plt\n",
    "from sklearn.metrics import mean_absolute_error, mean_squared_error"
   ]
  },
  {
   "cell_type": "code",
   "execution_count": 38,
   "id": "7ec5c8d2-138f-4419-9495-5260d4860b3e",
   "metadata": {},
   "outputs": [],
   "source": [
    "def smiles_to_graph(smiles):\n",
    "    mol = Chem.MolFromSmiles(smiles)\n",
    "    if mol is None:\n",
    "        print(f\"Invalid SMILES: {smiles}\")\n",
    "        return None\n",
    "\n",
    "    mol = Chem.AddHs(mol)\n",
    "    try:\n",
    "        AllChem.EmbedMolecule(mol)\n",
    "        AllChem.UFFOptimizeMolecule(mol)\n",
    "    except Exception as e:\n",
    "        print(f\"Failed to embed molecule for SMILES: {smiles}. Error: {e}\")\n",
    "        return None\n",
    "    adjacency_matrix = GetAdjacencyMatrix(mol)\n",
    "    features = []\n",
    "    for atom in mol.GetAtoms():\n",
    "        features.append(atom_features(atom))\n",
    "    \n",
    "    edge_index = torch.tensor(np.array(np.nonzero(adjacency_matrix)), dtype=torch.long)\n",
    "    x = torch.tensor(np.array(features), dtype=torch.float)\n",
    "    \n",
    "    return Data(x=x, edge_index=edge_index)\n",
    "\n",
    "def atom_features(atom):\n",
    "    return np.array([\n",
    "        atom.GetAtomicNum(),\n",
    "        atom.GetDegree(),\n",
    "        atom.GetFormalCharge(),\n",
    "        atom.GetNumRadicalElectrons(),\n",
    "        atom.GetHybridization(),\n",
    "        atom.GetIsAromatic(),\n",
    "    ], dtype=np.float32)"
   ]
  },
  {
   "cell_type": "code",
   "execution_count": 39,
   "id": "fc98761c-c12e-4f3a-964c-0e3374b81aa5",
   "metadata": {},
   "outputs": [],
   "source": [
    "class MoleculeDataset(torch.utils.data.Dataset):\n",
    "    def __init__(self, smiles_list, targets):\n",
    "        self.smiles_list = smiles_list\n",
    "        self.targets = targets\n",
    "\n",
    "    def __len__(self):\n",
    "        return len(self.smiles_list)\n",
    "\n",
    "    def __getitem__(self, idx):\n",
    "        graph = smiles_to_graph(self.smiles_list[idx])\n",
    "        target = torch.tensor(self.targets[idx], dtype=torch.float)\n",
    "        return graph, target"
   ]
  },
  {
   "cell_type": "code",
   "execution_count": 51,
   "id": "a23d23b5-0470-49dc-99ed-545c91af465d",
   "metadata": {},
   "outputs": [],
   "source": [
    "class GNNRegressionModel(nn.Module):\n",
    "    def __init__(self, in_channels, hidden_channels, out_channels):\n",
    "        super(GNNRegressionModel, self).__init__()\n",
    "        self.conv1 = GCNConv(in_channels, hidden_channels)\n",
    "        self.conv2 = GCNConv(hidden_channels, hidden_channels)\n",
    "        self.conv3 = GCNConv(hidden_channels, hidden_channels)\n",
    "        self.fc1 = nn.Linear(hidden_channels, hidden_channels // 2)\n",
    "        self.fc2 = nn.Linear(hidden_channels // 2, out_channels)\n",
    "\n",
    "    def forward(self, x, edge_index, batch):\n",
    "        x = torch.relu(self.conv1(x, edge_index))\n",
    "        x = torch.relu(self.conv2(x, edge_index))\n",
    "        x = torch.relu(self.conv3(x, edge_index))\n",
    "        x = global_mean_pool(x, batch) \n",
    "        x = torch.relu(self.fc1(x)) \n",
    "        x = self.fc2(x)\n",
    "        return x\n"
   ]
  },
  {
   "cell_type": "code",
   "execution_count": 41,
   "id": "b98ebd1d-18ef-438d-bb50-5835b6bca3ef",
   "metadata": {},
   "outputs": [],
   "source": [
    "def train_model(model, dataloader, optimizer, criterion, device):\n",
    "    model.train()\n",
    "    for data, target in dataloader:\n",
    "        data = data.to(device)\n",
    "        optimizer.zero_grad()\n",
    "        output = model(data.x, data.edge_index, data.batch)\n",
    "        loss = criterion(output.squeeze(), target.to(device))\n",
    "        loss.backward()\n",
    "        optimizer.step()"
   ]
  },
  {
   "cell_type": "code",
   "execution_count": 13,
   "id": "b6a89dfa-1c1b-49b8-81c1-d78e1cd7724b",
   "metadata": {},
   "outputs": [],
   "source": []
  },
  {
   "cell_type": "code",
   "execution_count": 14,
   "id": "f9580b7e-b5e0-434c-9b0e-a6e7c8cd760a",
   "metadata": {},
   "outputs": [],
   "source": [
    "datafile = pd.read_csv(\"tox24_challenge_train.csv\")"
   ]
  },
  {
   "cell_type": "code",
   "execution_count": 19,
   "id": "b3ec966d-d870-4fcd-a627-6ef138d29664",
   "metadata": {},
   "outputs": [
    {
     "data": {
      "text/plain": [
       "(1012, 2)"
      ]
     },
     "execution_count": 19,
     "metadata": {},
     "output_type": "execute_result"
    }
   ],
   "source": [
    "datafile.shape"
   ]
  },
  {
   "cell_type": "code",
   "execution_count": 30,
   "id": "90bba400-9a65-4182-841b-3c4b8fd0b742",
   "metadata": {},
   "outputs": [
    {
     "data": {
      "text/plain": [
       "{'whiskers': [<matplotlib.lines.Line2D at 0x1fec4535050>,\n",
       "  <matplotlib.lines.Line2D at 0x1fec4536490>],\n",
       " 'caps': [<matplotlib.lines.Line2D at 0x1fec4537ad0>,\n",
       "  <matplotlib.lines.Line2D at 0x1fec45189d0>],\n",
       " 'boxes': [<matplotlib.lines.Line2D at 0x1fec6585c10>],\n",
       " 'medians': [<matplotlib.lines.Line2D at 0x1fec452d310>],\n",
       " 'fliers': [<matplotlib.lines.Line2D at 0x1fec452f150>],\n",
       " 'means': []}"
      ]
     },
     "execution_count": 30,
     "metadata": {},
     "output_type": "execute_result"
    },
    {
     "data": {
      "image/png": "[encoded data removed]",
      "text/plain": [
       "<Figure size 640x480 with 1 Axes>"
      ]
     },
     "metadata": {},
     "output_type": "display_data"
    }
   ],
   "source": [
    "plt.boxplot(datafile[\"activity\"])"
   ]
  },
  {
   "cell_type": "code",
   "execution_count": null,
   "id": "7ba73ca8-6c30-48c7-9d30-54951ba30c3f",
   "metadata": {},
   "outputs": [],
   "source": []
  },
  {
   "cell_type": "code",
   "execution_count": null,
   "id": "405f6f23-9631-434f-9149-de7319b0402b",
   "metadata": {},
   "outputs": [],
   "source": []
  },
  {
   "cell_type": "code",
   "execution_count": null,
   "id": "10fbc14c-e65f-47da-a5bb-9a319f8fb474",
   "metadata": {},
   "outputs": [],
   "source": []
  },
  {
   "cell_type": "code",
   "execution_count": null,
   "id": "9278f7d6-a225-4f12-9814-6cc3b7edcffe",
   "metadata": {},
   "outputs": [],
   "source": []
  },
  {
   "cell_type": "code",
   "execution_count": null,
   "id": "bda01c52-493b-4848-a3bb-006e2b82de47",
   "metadata": {},
   "outputs": [],
   "source": []
  },
  {
   "cell_type": "code",
   "execution_count": 74,
   "id": "8908cfa5-a41a-429a-8980-b392da8b19a5",
   "metadata": {},
   "outputs": [],
   "source": [
    "smiles_list = datafile[\"SMILES\"].to_list()[0:200]\n",
    "targets = datafile[\"activity\"].to_list()[0:200]\n",
    "\n",
    "dataset = MoleculeDataset(smiles_list, targets)\n",
    "dataloader = DataLoader(dataset, batch_size=50, shuffle=True)"
   ]
  },
  {
   "cell_type": "code",
   "execution_count": null,
   "id": "1079878d-8360-406c-a999-be09bcd7c887",
   "metadata": {},
   "outputs": [],
   "source": []
  },
  {
   "cell_type": "code",
   "execution_count": 75,
   "id": "3bdd9326-9ad5-4944-bc10-13ff617d25cc",
   "metadata": {
    "scrolled": true
   },
   "outputs": [
    {
     "name": "stdout",
     "output_type": "stream",
     "text": [
      "0\n",
      "1\n",
      "2\n",
      "3\n",
      "4\n",
      "5\n",
      "6\n",
      "7\n",
      "8\n",
      "9\n",
      "10\n",
      "11\n",
      "12\n",
      "13\n",
      "14\n",
      "15\n",
      "16\n",
      "17\n",
      "18\n",
      "19\n",
      "20\n",
      "21\n",
      "22\n",
      "23\n",
      "24\n",
      "25\n",
      "26\n",
      "27\n",
      "28\n",
      "29\n",
      "30\n",
      "31\n",
      "32\n",
      "33\n",
      "34\n",
      "35\n",
      "36\n",
      "37\n",
      "38\n",
      "39\n",
      "40\n",
      "41\n",
      "42\n",
      "43\n",
      "44\n",
      "45\n",
      "46\n",
      "47\n",
      "48\n",
      "49\n"
     ]
    }
   ],
   "source": [
    "device = torch.device(\"cuda\" if torch.cuda.is_available() else \"cpu\")\n",
    "model = GNNRegressionModel(in_channels=6, hidden_channels=64, out_channels=1).to(device)\n",
    "optimizer = torch.optim.Adam(model.parameters(), lr=0.01)\n",
    "criterion = nn.MSELoss()\n",
    "\n",
    "\n",
    "for epoch in range(50):\n",
    "    print(epoch)\n",
    "    train_model(model, dataloader, optimizer, criterion, device)"
   ]
  },
  {
   "cell_type": "code",
   "execution_count": null,
   "id": "a55ded0a-b76c-4d06-a44b-2f71234ade0a",
   "metadata": {},
   "outputs": [],
   "source": [
    "test_smiles = datafile[\"SMILES\"].to_list()[200:250]\n",
    "test_targets = datafile[\"activity\"].to_list()[200:250]\n",
    "test_dataset = MoleculeDataset(test_smiles, test_targets)\n",
    "test_loader = DataLoader(test_dataset, batch_size=32, shuffle=False)\n",
    "\n",
    "model.eval()\n",
    "\n",
    "from sklearn.metrics import mean_absolute_error, mean_squared_error, r2_score\n",
    "\n",
    "predictions = []\n",
    "ground_truths = []\n",
    "with torch.no_grad():\n",
    "    for data, target in test_loader:\n",
    "        data = data.to(device)\n",
    "        output = model(data.x, data.edge_index, data.batch)\n",
    "        predictions.append(output.squeeze().cpu().numpy())\n",
    "        ground_truths.append(target.numpy())\n",
    "\n",
    "predictions = np.concatenate(predictions)\n",
    "ground_truths = np.concatenate(ground_truths)\n",
    "\n",
    "mae = mean_absolute_error(ground_truths, predictions)\n",
    "rmse = mean_squared_error(ground_truths, predictions, squared=False)\n",
    "r2 = r2_score(ground_truths, predictions)\n",
    "\n",
    "print(f\"Test MAE: {mae:.4f}\")\n",
    "print(f\"Test RMSE: {rmse:.4f}\")\n",
    "print(f\"Test R2: {r2:.4f}\")"
   ]
  },
  {
   "cell_type": "code",
   "execution_count": null,
   "id": "6b8acf6b-9cfa-47a9-8f0f-be71198334c2",
   "metadata": {},
   "outputs": [],
   "source": []
  }
 ],
 "metadata": {
  "kernelspec": {
   "display_name": "Python 3 (ipykernel)",
   "language": "python",
   "name": "python3"
  },
  "language_info": {
   "codemirror_mode": {
    "name": "ipython",
    "version": 3
   },
   "file_extension": ".py",
   "mimetype": "text/x-python",
   "name": "python",
   "nbconvert_exporter": "python",
   "pygments_lexer": "ipython3",
   "version": "3.11.8"
  }
 },
 "nbformat": 4,
 "nbformat_minor": 5
}
